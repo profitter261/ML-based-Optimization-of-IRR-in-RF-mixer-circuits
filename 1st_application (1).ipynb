{
  "cells": [
    {
      "cell_type": "code",
      "execution_count": 5,
      "metadata": {
        "colab": {
          "base_uri": "https://localhost:8080/"
        },
        "id": "Jt0zxJJlTPCM",
        "outputId": "b83584b3-ea5d-4aa8-d561-320306288a7d"
      },
      "outputs": [
        {
          "name": "stdout",
          "output_type": "stream",
          "text": [
            "Overall Average IRR: 22.00 dB\n"
          ]
        }
      ],
      "source": [
        "import pandas as pd\n",
        "# Load the IRR dataset\n",
        "df = pd.read_csv(\"final_irr_results (1).csv\")\n",
        "\n",
        "# Calculate the average IRR\n",
        "average_irr = df[\"IRR\"].mean()\n",
        "print(f\"Overall Average IRR: {average_irr:.2f} dB\")"
      ]
    },
    {
      "cell_type": "code",
      "execution_count": 6,
      "metadata": {
        "id": "g40JseysnlfU"
      },
      "outputs": [],
      "source": [
        "# Tune Notch Filter for IRR in 40 to 60 dB range\n",
        "notch_freq = 190e3  # Image frequency (example: rf_freq + lo_freq)\n",
        "initial_quality_factor = 30  # Starting Q value\n",
        "target_irr_min = 40  # Minimum desired IRR (dB)\n",
        "target_irr_max = 60  # Maximum desired IRR (dB)\n",
        "tolerance = 1  # Tolerance for IRR (dB)"
      ]
    },
    {
      "cell_type": "code",
      "execution_count": 7,
      "metadata": {
        "colab": {
          "base_uri": "https://localhost:8080/"
        },
        "id": "j6kH1fHxLyAR",
        "outputId": "05f69991-2721-4024-a8ca-f1cdd0d4284c"
      },
      "outputs": [
        {
          "name": "stdout",
          "output_type": "stream",
          "text": [
            "Quality Factor (Q): 30, IRR: 32.34 dB\n",
            "Quality Factor (Q): 33.0, IRR: 32.63 dB\n",
            "Quality Factor (Q): 36.300000000000004, IRR: 32.92 dB\n",
            "Quality Factor (Q): 39.93000000000001, IRR: 33.21 dB\n",
            "Quality Factor (Q): 43.92300000000001, IRR: 33.50 dB\n",
            "Quality Factor (Q): 48.315300000000015, IRR: 33.79 dB\n",
            "Quality Factor (Q): 53.14683000000002, IRR: 34.08 dB\n",
            "Quality Factor (Q): 58.46151300000003, IRR: 34.37 dB\n",
            "Quality Factor (Q): 64.30766430000004, IRR: 34.66 dB\n",
            "Quality Factor (Q): 70.73843073000005, IRR: 34.95 dB\n",
            "Quality Factor (Q): 77.81227380300005, IRR: 35.24 dB\n",
            "Quality Factor (Q): 85.59350118330006, IRR: 35.53 dB\n",
            "Quality Factor (Q): 94.15285130163008, IRR: 35.82 dB\n",
            "Quality Factor (Q): 103.56813643179309, IRR: 36.11 dB\n",
            "Quality Factor (Q): 113.92495007497241, IRR: 36.40 dB\n",
            "Quality Factor (Q): 125.31744508246966, IRR: 36.69 dB\n",
            "Quality Factor (Q): 137.84918959071663, IRR: 36.98 dB\n",
            "Quality Factor (Q): 151.63410854978832, IRR: 37.27 dB\n",
            "Quality Factor (Q): 166.79751940476717, IRR: 37.56 dB\n",
            "Quality Factor (Q): 183.4772713452439, IRR: 37.85 dB\n",
            "Quality Factor (Q): 201.8249984797683, IRR: 38.13 dB\n",
            "Quality Factor (Q): 222.00749832774517, IRR: 38.42 dB\n",
            "Quality Factor (Q): 244.2082481605197, IRR: 38.71 dB\n",
            "Quality Factor (Q): 268.6290729765717, IRR: 39.00 dB\n",
            "Quality Factor (Q): 295.4919802742289, IRR: 39.29 dB\n",
            "Quality Factor (Q): 325.0411783016518, IRR: 39.58 dB\n",
            "Quality Factor (Q): 357.54529613181705, IRR: 39.87 dB\n",
            "Quality Factor (Q): 393.29982574499877, IRR: 40.16 dB\n",
            "Desired IRR achieved: 40.16 dB\n",
            "\n",
            "📊 **Before vs. After Optimization Results**\n",
            "-------------------------------------------------\n",
            "🔹 Before Optimization: {'IRR (dB)': np.float64(22.0), 'Quality Factor (Q)': 30, 'Notch Frequency (Hz)': 190000.0}\n",
            "🔹 After Optimization:  {'IRR (dB)': np.float64(40.16306627794218), 'Quality Factor (Q)': 393.29982574499877, 'Notch Frequency (Hz)': 190000.0}\n",
            "-------------------------------------------------\n"
          ]
        }
      ],
      "source": [
        "# Iterative tuning loop\n",
        "import numpy as np\n",
        "from scipy import signal\n",
        "quality_factor = initial_quality_factor\n",
        "initial_irr = average_irr # Start with the average IRR from HB datasets\n",
        "irr = initial_irr  # Start with the average IRR from HB datasets\n",
        "while True:\n",
        "    # Design Notch Filter\n",
        "    b, a = signal.iirnotch(notch_freq, quality_factor, fs=1e6)  # fs is example sampling frequency\n",
        "\n",
        "    # Simulate IRR based on notch filter (replace with actual IRR calculation if needed)\n",
        "    # For this example, assume IRR improves as Q increases\n",
        "    irr = initial_irr + 7*np.log10(quality_factor)\n",
        "\n",
        "    print(f\"Quality Factor (Q): {quality_factor}, IRR: {irr:.2f} dB\")\n",
        "\n",
        "    # Check if IRR is within the desired range\n",
        "    if target_irr_min <= irr <= target_irr_max:\n",
        "        print(f\"Desired IRR achieved: {irr:.2f} dB\")\n",
        "        break\n",
        "    elif irr < target_irr_min:\n",
        "        # Increase Q to make the notch sharper\n",
        "        quality_factor *= 1.1  # Increase Q by 10%\n",
        "    else:\n",
        "      # Decrease Q to make the notch wider\n",
        "        quality_factor *= 0.9  # Decrease Q by 10%\n",
        "\n",
        "    # Prevent infinite loops\n",
        "    if quality_factor < 1 or quality_factor > 1000:\n",
        "        print(\"IRR tuning failed. Adjust parameters manually.\")\n",
        "        break\n",
        "        # Store after-optimization parameters\n",
        "after_optimization = {\n",
        "    \"IRR (dB)\": irr,\n",
        "    \"Quality Factor (Q)\": quality_factor,\n",
        "    \"Notch Frequency (Hz)\": notch_freq\n",
        "}\n",
        "# Store before-optimization parameters\n",
        "before_optimization = {\n",
        "    \"IRR (dB)\": initial_irr,\n",
        "    \"Quality Factor (Q)\": initial_quality_factor,\n",
        "    \"Notch Frequency (Hz)\": notch_freq\n",
        "}\n",
        "\n",
        "# Print before vs. after optimization\n",
        "print(\"\\n📊 **Before vs. After Optimization Results**\")\n",
        "print(\"-------------------------------------------------\")\n",
        "print(f\"🔹 Before Optimization: {before_optimization}\")\n",
        "print(f\"🔹 After Optimization:  {after_optimization}\")\n",
        "print(\"-------------------------------------------------\")"
      ]
    },
    {
      "cell_type": "code",
      "execution_count": 8,
      "metadata": {
        "colab": {
          "base_uri": "https://localhost:8080/"
        },
        "id": "cx-cRZeiE8tA",
        "outputId": "15bc8105-4134-41af-ecb3-8829706ec08f"
      },
      "outputs": [
        {
          "name": "stdout",
          "output_type": "stream",
          "text": [
            "   Frequency_desired  Amplitude_desired  Frequency_image  Amplitude_image  \\\n",
            "0                  0         -53.016120       4200000000      -111.352271   \n",
            "1           10000000         -49.998480       4190000000      -111.331528   \n",
            "2           20000000         -49.976610       4180000000      -111.310763   \n",
            "3           30000000         -49.940653       4170000000      -111.289913   \n",
            "4           40000000         -49.891323       4160000000      -111.268998   \n",
            "\n",
            "         IRR  Q_factor  f_notch (MHz)  Optimized_IRR  \n",
            "0  58.336150  2.061810     105.792363      60.520704  \n",
            "1  61.333048  2.926071      91.824122      64.435539  \n",
            "2  61.334152  2.597991      99.888406      64.446162  \n",
            "3  61.349260  2.397988      91.151175      63.784404  \n",
            "4  61.377675  1.734028     100.990578      63.408979  \n"
          ]
        }
      ],
      "source": [
        "import pandas as pd\n",
        "import numpy as np\n",
        "\n",
        "# Load your existing IRR dataset (Make sure it has a column named 'Initial_IRR')\n",
        "irr_data = pd.read_csv(\"final_irr_results (1).csv\")\n",
        "\n",
        "# Define reasonable ranges for Notch Frequency and Q Factor\n",
        "notch_freq_range = (90, 110)  # MHz\n",
        "q_factor_range = (1.5, 3.0)   # Unitless\n",
        "\n",
        "# Define an ideal notch filtering frequency (assume 100 MHz for optimization)\n",
        "f_target = 100\n",
        "\n",
        "# Define scaling factors for IRR improvement\n",
        "alpha = 1.2  # Impact of Q factor on IRR\n",
        "beta = 0.05  # Impact of frequency deviation\n",
        "\n",
        "# Generate random Q factor and Notch Frequency for each IRR value\n",
        "np.random.seed(42)  # For reproducibility\n",
        "irr_data[\"Q_factor\"] = np.random.uniform(*q_factor_range, size=len(irr_data))\n",
        "irr_data[\"f_notch (MHz)\"] = np.random.uniform(*notch_freq_range, size=len(irr_data))\n",
        "\n",
        "# Compute Optimized IRR based on an iterative notch filtering approximation\n",
        "irr_data[\"Optimized_IRR\"] = irr_data[\"IRR\"] + (alpha * irr_data[\"Q_factor\"]) - (beta * abs(irr_data[\"f_notch (MHz)\"] - f_target))\n",
        "\n",
        "# Save the dataset with Q factor and Notch Frequency\n",
        "irr_data.to_csv(\"irr_notch_data.csv\", index=False)\n",
        "\n",
        "# Display the first few rows of the new dataset\n",
        "print(irr_data.head())"
      ]
    },
    {
      "cell_type": "code",
      "execution_count": 9,
      "metadata": {
        "colab": {
          "base_uri": "https://localhost:8080/"
        },
        "id": "gD-q-9nsFgIu",
        "outputId": "4008d734-b180-4810-ef2c-bd51e7743939"
      },
      "outputs": [
        {
          "name": "stdout",
          "output_type": "stream",
          "text": [
            "Model Evaluation:\n",
            "MAE: 0.78\n",
            "MSE: 10.77\n",
            "R² Score: 0.98\n",
            "Predicted Optimized IRR: 32.86\n"
          ]
        },
        {
          "name": "stderr",
          "output_type": "stream",
          "text": [
            "/usr/local/lib/python3.11/dist-packages/sklearn/utils/validation.py:2739: UserWarning: X does not have valid feature names, but RandomForestRegressor was fitted with feature names\n",
            "  warnings.warn(\n"
          ]
        }
      ],
      "source": [
        "import pandas as pd\n",
        "import numpy as np\n",
        "from sklearn.model_selection import train_test_split\n",
        "from sklearn.ensemble import RandomForestRegressor\n",
        "from sklearn.metrics import mean_absolute_error, mean_squared_error, r2_score\n",
        "\n",
        "# Load the dataset\n",
        "data = pd.read_csv(\"irr_notch_data.csv\")\n",
        "\n",
        "# Features (X) and Target (y)\n",
        "X = data[[\"IRR\", \"Q_factor\", \"f_notch (MHz)\"]]\n",
        "y = data[\"Optimized_IRR\"]\n",
        "\n",
        "# Split into training (80%) and testing (20%) sets\n",
        "X_train, X_test, y_train, y_test = train_test_split(X, y, test_size=0.2, random_state=42)\n",
        "\n",
        "# Train a Random Forest Regressor\n",
        "model = RandomForestRegressor(n_estimators=100, random_state=42)\n",
        "model.fit(X_train, y_train)\n",
        "\n",
        "# Predict on the test set\n",
        "y_pred = model.predict(X_test)\n",
        "\n",
        "# Model Evaluation\n",
        "mae = mean_absolute_error(y_test, y_pred)\n",
        "mse = mean_squared_error(y_test, y_pred)\n",
        "r2 = r2_score(y_test, y_pred)\n",
        "\n",
        "print(f\"Model Evaluation:\")\n",
        "print(f\"MAE: {mae:.2f}\")\n",
        "print(f\"MSE: {mse:.2f}\")\n",
        "print(f\"R² Score: {r2:.2f}\")\n",
        "\n",
        "# Example Prediction for a New IRR Input\n",
        "new_data = np.array([[30, 2.5, 98]])  # Example: Initial_IRR=30, Q_factor=2.5, f_notch=98 MHz\n",
        "predicted_irr = model.predict(new_data)\n",
        "print(f\"Predicted Optimized IRR: {predicted_irr[0]:.2f}\")"
      ]
    },
    {
      "cell_type": "code",
      "execution_count": null,
      "metadata": {
        "colab": {
          "base_uri": "https://localhost:8080/"
        },
        "id": "qIvMLZDBFot6",
        "outputId": "3b96f52e-5cf0-45e8-ca12-e979dce36921"
      },
      "outputs": [
        {
          "name": "stdout",
          "output_type": "stream",
          "text": [
            "Fitting 5 folds for each of 108 candidates, totalling 540 fits\n",
            "Best Hyperparameters: {'max_depth': 10, 'min_samples_leaf': 1, 'min_samples_split': 2, 'n_estimators': 50}\n"
          ]
        }
      ],
      "source": [
        "import pandas as pd\n",
        "import numpy as np\n",
        "from sklearn.model_selection import train_test_split, GridSearchCV\n",
        "from sklearn.ensemble import RandomForestRegressor\n",
        "from sklearn.metrics import mean_absolute_error, mean_squared_error, r2_score\n",
        "\n",
        "# Load the dataset\n",
        "data = pd.read_csv(\"irr_notch_data.csv\")\n",
        "\n",
        "# Define Features (X) and Target (y)\n",
        "X = data[[\"IRR\", \"Q_factor\", \"f_notch (MHz)\"]]\n",
        "y = data[\"Optimized_IRR\"]\n",
        "\n",
        "# Split the dataset into training (80%) and testing (20%) sets\n",
        "X_train, X_test, y_train, y_test = train_test_split(X, y, test_size=0.2, random_state=42)\n",
        "\n",
        "# Define the model\n",
        "rf_model = RandomForestRegressor(random_state=42)\n",
        "\n",
        "# Define hyperparameters to tune\n",
        "param_grid = {\n",
        "    'n_estimators': [50, 100, 200],  # Number of trees\n",
        "    'max_depth': [10, 20, 30, None],  # Maximum depth of trees\n",
        "    'min_samples_split': [2, 5, 10],  # Minimum samples required to split a node\n",
        "    'min_samples_leaf': [1, 2, 4]  # Minimum samples per leaf node\n",
        "}\n",
        "\n",
        "# Grid Search with 5-fold Cross Validation\n",
        "grid_search = GridSearchCV(estimator=rf_model, param_grid=param_grid,\n",
        "                           cv=5, n_jobs=-1, verbose=2, scoring='r2')\n",
        "\n",
        "# Fit Grid Search to Training Data\n",
        "grid_search.fit(X_train, y_train)\n",
        "\n",
        "# Get the Best Model\n",
        "best_rf_model = grid_search.best_estimator_\n",
        "\n",
        "# Print Best Parameters\n",
        "print(f\"Best Hyperparameters: {grid_search.best_params_}\")"
      ]
    },
    {
      "cell_type": "code",
      "execution_count": 11,
      "metadata": {
        "colab": {
          "base_uri": "https://localhost:8080/",
          "height": 472
        },
        "id": "GSOaCrwfBwZU",
        "outputId": "4c34bfbe-8a15-4945-c40a-489e384d771f"
      },
      "outputs": [
        {
          "data": {
            "image/png": "[encoded data removed]",
            "text/plain": [
              "<Figure size 640x480 with 1 Axes>"
            ]
          },
          "metadata": {},
          "output_type": "display_data"
        }
      ],
      "source": [
        "# Plot Frequency Response of Notch Filter\n",
        "import matplotlib.pyplot as plt\n",
        "\n",
        "frequencies, response = signal.freqz(b, a, fs=1e6)\n",
        "plt.figure()\n",
        "plt.plot(frequencies, 20 * np.log10(np.abs(response)))\n",
        "plt.title(\"Frequency Response of Notch Filter\")\n",
        "plt.xlabel(\"Frequency (Hz)\")\n",
        "plt.ylabel(\"Magnitude (dB)\")\n",
        "plt.grid()\n",
        "plt.show()"
      ]
    },
    {
      "cell_type": "code",
      "execution_count": 12,
      "metadata": {
        "colab": {
          "base_uri": "https://localhost:8080/",
          "height": 468
        },
        "id": "wyMXj3ecZQc-",
        "outputId": "f76c2170-8e11-4f18-dcd3-0eae8c044b6a"
      },
      "outputs": [
        {
          "data": {
            "image/png": "[encoded data removed]",
            "text/plain": [
              "<Figure size 600x500 with 1 Axes>"
            ]
          },
          "metadata": {},
          "output_type": "display_data"
        }
      ],
      "source": [
        "# Plot Bar Graph Comparison Before vs After IRR\n",
        "plt.figure(figsize=(6, 5))\n",
        "plt.bar([\"Before Optimization\", \"After Optimization\"], [initial_irr,irr], color=['blue', 'red'])\n",
        "plt.title(\"IRR Comparison Before vs After Optimization\")\n",
        "plt.ylabel(\"IRR (dB)\")\n",
        "plt.ylim(0, max(70, irr + 5))\n",
        "plt.grid(axis='y', linestyle='--', alpha=0.7)\n",
        "plt.show()"
      ]
    },
    {
      "cell_type": "code",
      "execution_count": null,
      "metadata": {
        "colab": {
          "base_uri": "https://localhost:8080/"
        },
        "id": "avFUKV14mL8M",
        "outputId": "0c480140-3aac-484d-a122-192cb5b4b6a8"
      },
      "outputs": [
        {
          "name": "stdout",
          "output_type": "stream",
          "text": [
            "\n",
            "🔹 Optimization Summary:\n",
            "R1 outp N001 300  -->  R1 outp N001 250\n",
            "R2 outn N001 300  -->  R2 outn N001 250\n",
            "L2 N004 N003 76.9n  -->  L2 N004 N003 76.9n\n"
          ]
        }
      ],
      "source": [
        "import re\n",
        "\n",
        "def optimize_ltspice_netlist(file_path=\"/content/gandthod.net\"):\n",
        "    with open(file_path, \"r\", encoding=\"ISO-8859-1\") as file:\n",
        "        netlist_lines = file.readlines()\n",
        "\n",
        "    changes = {}\n",
        "\n",
        "    for line in netlist_lines:\n",
        "        original_line = line.strip()\n",
        "        optimized_line = original_line\n",
        "\n",
        "        # Optimize LO Amplitude (1.8V -> 2.5V)\n",
        "        if \"VLO+\" in line or \"VLO-\" in line:\n",
        "            optimized_line = re.sub(r'(PULSE\\(0V 1.8V)', r'PULSE(0V 2.5V', original_line)\n",
        "            changes[original_line] = optimized_line\n",
        "\n",
        "        # Optimize RF Input Power (1mV -> 5mV)\n",
        "        if \"IRF+\" in line or \"IRF-\" in line:\n",
        "            optimized_line = re.sub(r'SINE\\(1m', 'SINE(5m', original_line)\n",
        "            changes[original_line] = optimized_line\n",
        "\n",
        "        # Optimize Load Resistors (300Ω -> 250Ω)\n",
        "        if re.search(r'R[0-9]+.*300', line):\n",
        "            optimized_line = re.sub(r'300', '250', original_line)\n",
        "            changes[original_line] = optimized_line\n",
        "\n",
        "        # Optimize Inductor L2 (76.9nH -> 90nH)\n",
        "        if \"L2\" in line:\n",
        "            optimized_line = re.sub(r'76.9nH', '90nH', original_line)\n",
        "            changes[original_line] = optimized_line\n",
        "\n",
        "        # Optimize NMOS Width (W = 6µm -> 8µm)\n",
        "        if re.search(r'W\\s*=\\s*6u', line):\n",
        "            optimized_line = re.sub(r'W\\s*=\\s*6u', 'W = 8u', original_line)\n",
        "            changes[original_line] = optimized_line\n",
        "\n",
        "    # Display changes\n",
        "    print(\"\\n🔹 Optimization Summary:\")\n",
        "    for original, optimized in changes.items():\n",
        "        print(f\"{original}  -->  {optimized}\")\n",
        "\n",
        "# Run the function in Colab\n",
        "optimize_ltspice_netlist()"
      ]
    }
  ],
  "metadata": {
    "colab": {
      "provenance": []
    },
    "kernelspec": {
      "display_name": "Python 3",
      "name": "python3"
    },
    "language_info": {
      "name": "python"
    }
  },
  "nbformat": 4,
  "nbformat_minor": 0
}
